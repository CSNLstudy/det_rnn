{
 "cells": [
  {
   "cell_type": "code",
   "execution_count": 1,
   "metadata": {},
   "outputs": [
    {
     "name": "stdout",
     "output_type": "stream",
     "text": [
      "2.3.1\n",
      "Num GPUs Available:  0\n"
     ]
    }
   ],
   "source": [
    "import copy, os, sys, time, yaml\n",
    "\n",
    "import pandas as pd\n",
    "import numpy as np\n",
    "import tensorflow as tf\n",
    "\n",
    "import seaborn as sns\n",
    "import matplotlib\n",
    "# matplotlib.use('Qt5Agg')\n",
    "import matplotlib.pyplot as plt\n",
    "\n",
    "sys.path.append('../')\n",
    "from det_rnn import *\n",
    "import det_rnn.train as utils_train\n",
    "import det_rnn.analysis as utils_analysis\n",
    "from det_rnn.train.model import Model\n",
    "from models.gatedRNN.gatedRNN import gRNN, RNNCell\n",
    "from models.gatedRNN.gatedRNN_hyper import grnn_hp\n",
    "\n",
    "from models.base.analysis import behavior_summary, estimation_decision\n",
    "\n",
    "from utils.plotfnc import *\n",
    "\n",
    "print(tf.__version__)\n",
    "print(\"Num GPUs Available: \", len(tf.config.experimental.list_physical_devices('GPU')))"
   ]
  },
  {
   "cell_type": "code",
   "execution_count": 9,
   "metadata": {},
   "outputs": [],
   "source": [
    "#load trained\n",
    "basedir = '/Users/JRyu/github/det_rnn/experiments/grnn2/hptest017'\n",
    "model = tf.saved_model.load(os.path.join(basedir, 'model', 'iter101'))\n",
    "\n",
    "with open(os.path.join(basedir, 'hp.yaml'),'rb') as file:\n",
    "    hp = yaml.load(file, Loader=yaml.Loader)\n"
   ]
  },
  {
   "cell_type": "code",
   "execution_count": 6,
   "metadata": {},
   "outputs": [],
   "source": [
    "# training set\n",
    "par_train = copy.deepcopy(par)\n",
    "par_train['batch_size'] = 50 # smaller batch size\n",
    "par_train['n_ori'] = 24\n",
    "par_train['n_hidden'] = hp['n_hidden']\n",
    "par_train = update_parameters(par_train)\n",
    "stim_train = Stimulus(par_train)\n",
    "\n",
    "# generate training data\n",
    "train_data = stim_train.generate_trial()\n",
    "\n",
    "# set up a new test set with more batch\n",
    "par_test                        = copy.deepcopy(par)\n",
    "par_test['n_ori']               = 24\n",
    "par_test['batch_size']          = 1000 # at least 9 refs * 24 orientations\n",
    "par_test['reference']           = [-4, -3, -2, -1, 0, 1, 2, 3, 4]\n",
    "par_test                        = update_parameters(par_test)\n",
    "stim_test                       = Stimulus(par_test)\n",
    "test_data                       = stim_test.generate_trial()"
   ]
  },
  {
   "cell_type": "code",
   "execution_count": 11,
   "metadata": {},
   "outputs": [
    {
     "ename": "ValueError",
     "evalue": "Could not find matching function to call loaded from the SavedModel. Got:\n  Positional arguments (1 total):\n    * {'neural_input': <tf.Tensor 'trial_info_5:0' shape=(1500, 1000, 52) dtype=float32>, 'stimulus_ori': <tf.Tensor 'trial_info_10:0' shape=(1000,) dtype=int64>, 'reference_ori': <tf.Tensor 'trial_info_8:0' shape=(1000,) dtype=int64>, 'ref_neuron': <tf.Tensor 'trial_info_7:0' shape=(1000,) dtype=int64>, 'desired_decision': <tf.Tensor 'trial_info:0' shape=(1500, 1000, 3) dtype=float32>, 'desired_estim': <tf.Tensor 'trial_info_1:0' shape=(1500, 1000, 49) dtype=float32>, 'mask_decision': <tf.Tensor 'trial_info_3:0' shape=(1500, 1000, 3) dtype=float32>, 'mask_estim': <tf.Tensor 'trial_info_4:0' shape=(1500, 1000, 49) dtype=float32>, 'input_tuning': <tf.Tensor 'trial_info_2:0' shape=(1000, 48) dtype=float64>, 'output_tuning': <tf.Tensor 'trial_info_6:0' shape=(1000, 48) dtype=float64>, 'stimulus_kap': <tf.Tensor 'trial_info_9:0' shape=(1000,) dtype=float64>}\n  Keyword arguments: {}\n\nExpected these arguments to match one of the following 2 option(s):\n\nOption 1:\n  Positional arguments (1 total):\n    * {'desired_decision': TensorSpec(shape=(1500, 50, 3), dtype=tf.float32, name='trial_info/desired_decision'), 'mask_decision': TensorSpec(shape=(1500, 50, 3), dtype=tf.float32, name='trial_info/mask_decision'), 'stimulus_kap': TensorSpec(shape=(50,), dtype=tf.float32, name='trial_info/stimulus_kap'), 'ref_neuron': TensorSpec(shape=(50,), dtype=tf.float32, name='trial_info/ref_neuron'), 'mask_estim': TensorSpec(shape=(1500, 50, 49), dtype=tf.float32, name='trial_info/mask_estim'), 'desired_estim': TensorSpec(shape=(1500, 50, 49), dtype=tf.float32, name='trial_info/desired_estim'), 'stimulus_ori': TensorSpec(shape=(50,), dtype=tf.float32, name='trial_info/stimulus_ori'), 'output_tuning': TensorSpec(shape=(50, 48), dtype=tf.float32, name='trial_info/output_tuning'), 'neural_input': TensorSpec(shape=(1500, 50, 52), dtype=tf.float32, name='trial_info/neural_input'), 'reference_ori': TensorSpec(shape=(50,), dtype=tf.float32, name='trial_info/reference_ori'), 'input_tuning': TensorSpec(shape=(50, 48), dtype=tf.float32, name='trial_info/input_tuning')}\n  Keyword arguments: {}\n\nOption 2:\n  Positional arguments (1 total):\n    * {'stimulus_ori': TensorSpec(shape=(1000,), dtype=tf.float32, name='trial_info/stimulus_ori'), 'desired_estim': TensorSpec(shape=(1500, 1000, 49), dtype=tf.float32, name='trial_info/desired_estim'), 'reference_ori': TensorSpec(shape=(1000,), dtype=tf.float32, name='trial_info/reference_ori'), 'ref_neuron': TensorSpec(shape=(1000,), dtype=tf.float32, name='trial_info/ref_neuron'), 'neural_input': TensorSpec(shape=(1500, 1000, 52), dtype=tf.float32, name='trial_info/neural_input'), 'stimulus_kap': TensorSpec(shape=(1000,), dtype=tf.float32, name='trial_info/stimulus_kap'), 'mask_estim': TensorSpec(shape=(1500, 1000, 49), dtype=tf.float32, name='trial_info/mask_estim'), 'mask_decision': TensorSpec(shape=(1500, 1000, 3), dtype=tf.float32, name='trial_info/mask_decision'), 'output_tuning': TensorSpec(shape=(1000, 48), dtype=tf.float32, name='trial_info/output_tuning'), 'desired_decision': TensorSpec(shape=(1500, 1000, 3), dtype=tf.float32, name='trial_info/desired_decision'), 'input_tuning': TensorSpec(shape=(1000, 48), dtype=tf.float32, name='trial_info/input_tuning')}\n  Keyword arguments: {}",
     "output_type": "error",
     "traceback": [
      "\u001b[0;31m---------------------------------------------------------------------------\u001b[0m",
      "\u001b[0;31mValueError\u001b[0m                                Traceback (most recent call last)",
      "\u001b[0;32m<ipython-input-11-9156ac0d6608>\u001b[0m in \u001b[0;36m<module>\u001b[0;34m\u001b[0m\n\u001b[1;32m      1\u001b[0m \u001b[0;31m# evaluate and visualize before training\u001b[0m\u001b[0;34m\u001b[0m\u001b[0;34m\u001b[0m\u001b[0;34m\u001b[0m\u001b[0m\n\u001b[0;32m----> 2\u001b[0;31m \u001b[0mtest_lossStruct\u001b[0m\u001b[0;34m,\u001b[0m \u001b[0mtest_outputs\u001b[0m  \u001b[0;34m=\u001b[0m \u001b[0mmodel\u001b[0m\u001b[0;34m.\u001b[0m\u001b[0mevaluate\u001b[0m\u001b[0;34m(\u001b[0m\u001b[0mtest_data\u001b[0m\u001b[0;34m)\u001b[0m\u001b[0;34m\u001b[0m\u001b[0;34m\u001b[0m\u001b[0m\n\u001b[0m\u001b[1;32m      3\u001b[0m \u001b[0;34m\u001b[0m\u001b[0m\n\u001b[1;32m      4\u001b[0m \u001b[0;31m# plot rnn trial and outputs\u001b[0m\u001b[0;34m\u001b[0m\u001b[0;34m\u001b[0m\u001b[0;34m\u001b[0m\u001b[0m\n\u001b[1;32m      5\u001b[0m \u001b[0mTEST_TRIAL\u001b[0m \u001b[0;34m=\u001b[0m \u001b[0mnp\u001b[0m\u001b[0;34m.\u001b[0m\u001b[0mrandom\u001b[0m\u001b[0;34m.\u001b[0m\u001b[0mrandint\u001b[0m\u001b[0;34m(\u001b[0m\u001b[0mstim_test\u001b[0m\u001b[0;34m.\u001b[0m\u001b[0mbatch_size\u001b[0m\u001b[0;34m)\u001b[0m\u001b[0;34m\u001b[0m\u001b[0;34m\u001b[0m\u001b[0m\n",
      "\u001b[0;32m/opt/anaconda3/envs/detrnn37/lib/python3.7/site-packages/tensorflow/python/eager/def_function.py\u001b[0m in \u001b[0;36m__call__\u001b[0;34m(self, *args, **kwds)\u001b[0m\n\u001b[1;32m    778\u001b[0m       \u001b[0;32melse\u001b[0m\u001b[0;34m:\u001b[0m\u001b[0;34m\u001b[0m\u001b[0;34m\u001b[0m\u001b[0m\n\u001b[1;32m    779\u001b[0m         \u001b[0mcompiler\u001b[0m \u001b[0;34m=\u001b[0m \u001b[0;34m\"nonXla\"\u001b[0m\u001b[0;34m\u001b[0m\u001b[0;34m\u001b[0m\u001b[0m\n\u001b[0;32m--> 780\u001b[0;31m         \u001b[0mresult\u001b[0m \u001b[0;34m=\u001b[0m \u001b[0mself\u001b[0m\u001b[0;34m.\u001b[0m\u001b[0m_call\u001b[0m\u001b[0;34m(\u001b[0m\u001b[0;34m*\u001b[0m\u001b[0margs\u001b[0m\u001b[0;34m,\u001b[0m \u001b[0;34m**\u001b[0m\u001b[0mkwds\u001b[0m\u001b[0;34m)\u001b[0m\u001b[0;34m\u001b[0m\u001b[0;34m\u001b[0m\u001b[0m\n\u001b[0m\u001b[1;32m    781\u001b[0m \u001b[0;34m\u001b[0m\u001b[0m\n\u001b[1;32m    782\u001b[0m       \u001b[0mnew_tracing_count\u001b[0m \u001b[0;34m=\u001b[0m \u001b[0mself\u001b[0m\u001b[0;34m.\u001b[0m\u001b[0m_get_tracing_count\u001b[0m\u001b[0;34m(\u001b[0m\u001b[0;34m)\u001b[0m\u001b[0;34m\u001b[0m\u001b[0;34m\u001b[0m\u001b[0m\n",
      "\u001b[0;32m/opt/anaconda3/envs/detrnn37/lib/python3.7/site-packages/tensorflow/python/eager/def_function.py\u001b[0m in \u001b[0;36m_call\u001b[0;34m(self, *args, **kwds)\u001b[0m\n\u001b[1;32m    812\u001b[0m       \u001b[0;31m# In this case we have not created variables on the first call. So we can\u001b[0m\u001b[0;34m\u001b[0m\u001b[0;34m\u001b[0m\u001b[0;34m\u001b[0m\u001b[0m\n\u001b[1;32m    813\u001b[0m       \u001b[0;31m# run the first trace but we should fail if variables are created.\u001b[0m\u001b[0;34m\u001b[0m\u001b[0;34m\u001b[0m\u001b[0;34m\u001b[0m\u001b[0m\n\u001b[0;32m--> 814\u001b[0;31m       \u001b[0mresults\u001b[0m \u001b[0;34m=\u001b[0m \u001b[0mself\u001b[0m\u001b[0;34m.\u001b[0m\u001b[0m_stateful_fn\u001b[0m\u001b[0;34m(\u001b[0m\u001b[0;34m*\u001b[0m\u001b[0margs\u001b[0m\u001b[0;34m,\u001b[0m \u001b[0;34m**\u001b[0m\u001b[0mkwds\u001b[0m\u001b[0;34m)\u001b[0m\u001b[0;34m\u001b[0m\u001b[0;34m\u001b[0m\u001b[0m\n\u001b[0m\u001b[1;32m    815\u001b[0m       \u001b[0;32mif\u001b[0m \u001b[0mself\u001b[0m\u001b[0;34m.\u001b[0m\u001b[0m_created_variables\u001b[0m\u001b[0;34m:\u001b[0m\u001b[0;34m\u001b[0m\u001b[0;34m\u001b[0m\u001b[0m\n\u001b[1;32m    816\u001b[0m         raise ValueError(\"Creating variables on a non-first call to a function\"\n",
      "\u001b[0;32m/opt/anaconda3/envs/detrnn37/lib/python3.7/site-packages/tensorflow/python/eager/function.py\u001b[0m in \u001b[0;36m__call__\u001b[0;34m(self, *args, **kwargs)\u001b[0m\n\u001b[1;32m   2826\u001b[0m     \u001b[0;34m\"\"\"Calls a graph function specialized to the inputs.\"\"\"\u001b[0m\u001b[0;34m\u001b[0m\u001b[0;34m\u001b[0m\u001b[0m\n\u001b[1;32m   2827\u001b[0m     \u001b[0;32mwith\u001b[0m \u001b[0mself\u001b[0m\u001b[0;34m.\u001b[0m\u001b[0m_lock\u001b[0m\u001b[0;34m:\u001b[0m\u001b[0;34m\u001b[0m\u001b[0;34m\u001b[0m\u001b[0m\n\u001b[0;32m-> 2828\u001b[0;31m       \u001b[0mgraph_function\u001b[0m\u001b[0;34m,\u001b[0m \u001b[0margs\u001b[0m\u001b[0;34m,\u001b[0m \u001b[0mkwargs\u001b[0m \u001b[0;34m=\u001b[0m \u001b[0mself\u001b[0m\u001b[0;34m.\u001b[0m\u001b[0m_maybe_define_function\u001b[0m\u001b[0;34m(\u001b[0m\u001b[0margs\u001b[0m\u001b[0;34m,\u001b[0m \u001b[0mkwargs\u001b[0m\u001b[0;34m)\u001b[0m\u001b[0;34m\u001b[0m\u001b[0;34m\u001b[0m\u001b[0m\n\u001b[0m\u001b[1;32m   2829\u001b[0m     \u001b[0;32mreturn\u001b[0m \u001b[0mgraph_function\u001b[0m\u001b[0;34m.\u001b[0m\u001b[0m_filtered_call\u001b[0m\u001b[0;34m(\u001b[0m\u001b[0margs\u001b[0m\u001b[0;34m,\u001b[0m \u001b[0mkwargs\u001b[0m\u001b[0;34m)\u001b[0m  \u001b[0;31m# pylint: disable=protected-access\u001b[0m\u001b[0;34m\u001b[0m\u001b[0;34m\u001b[0m\u001b[0m\n\u001b[1;32m   2830\u001b[0m \u001b[0;34m\u001b[0m\u001b[0m\n",
      "\u001b[0;32m/opt/anaconda3/envs/detrnn37/lib/python3.7/site-packages/tensorflow/python/eager/function.py\u001b[0m in \u001b[0;36m_maybe_define_function\u001b[0;34m(self, args, kwargs)\u001b[0m\n\u001b[1;32m   3211\u001b[0m \u001b[0;34m\u001b[0m\u001b[0m\n\u001b[1;32m   3212\u001b[0m       \u001b[0mself\u001b[0m\u001b[0;34m.\u001b[0m\u001b[0m_function_cache\u001b[0m\u001b[0;34m.\u001b[0m\u001b[0mmissed\u001b[0m\u001b[0;34m.\u001b[0m\u001b[0madd\u001b[0m\u001b[0;34m(\u001b[0m\u001b[0mcall_context_key\u001b[0m\u001b[0;34m)\u001b[0m\u001b[0;34m\u001b[0m\u001b[0;34m\u001b[0m\u001b[0m\n\u001b[0;32m-> 3213\u001b[0;31m       \u001b[0mgraph_function\u001b[0m \u001b[0;34m=\u001b[0m \u001b[0mself\u001b[0m\u001b[0;34m.\u001b[0m\u001b[0m_create_graph_function\u001b[0m\u001b[0;34m(\u001b[0m\u001b[0margs\u001b[0m\u001b[0;34m,\u001b[0m \u001b[0mkwargs\u001b[0m\u001b[0;34m)\u001b[0m\u001b[0;34m\u001b[0m\u001b[0;34m\u001b[0m\u001b[0m\n\u001b[0m\u001b[1;32m   3214\u001b[0m       \u001b[0mself\u001b[0m\u001b[0;34m.\u001b[0m\u001b[0m_function_cache\u001b[0m\u001b[0;34m.\u001b[0m\u001b[0mprimary\u001b[0m\u001b[0;34m[\u001b[0m\u001b[0mcache_key\u001b[0m\u001b[0;34m]\u001b[0m \u001b[0;34m=\u001b[0m \u001b[0mgraph_function\u001b[0m\u001b[0;34m\u001b[0m\u001b[0;34m\u001b[0m\u001b[0m\n\u001b[1;32m   3215\u001b[0m       \u001b[0;32mreturn\u001b[0m \u001b[0mgraph_function\u001b[0m\u001b[0;34m,\u001b[0m \u001b[0margs\u001b[0m\u001b[0;34m,\u001b[0m \u001b[0mkwargs\u001b[0m\u001b[0;34m\u001b[0m\u001b[0;34m\u001b[0m\u001b[0m\n",
      "\u001b[0;32m/opt/anaconda3/envs/detrnn37/lib/python3.7/site-packages/tensorflow/python/eager/function.py\u001b[0m in \u001b[0;36m_create_graph_function\u001b[0;34m(self, args, kwargs, override_flat_arg_shapes)\u001b[0m\n\u001b[1;32m   3073\u001b[0m             \u001b[0marg_names\u001b[0m\u001b[0;34m=\u001b[0m\u001b[0marg_names\u001b[0m\u001b[0;34m,\u001b[0m\u001b[0;34m\u001b[0m\u001b[0;34m\u001b[0m\u001b[0m\n\u001b[1;32m   3074\u001b[0m             \u001b[0moverride_flat_arg_shapes\u001b[0m\u001b[0;34m=\u001b[0m\u001b[0moverride_flat_arg_shapes\u001b[0m\u001b[0;34m,\u001b[0m\u001b[0;34m\u001b[0m\u001b[0;34m\u001b[0m\u001b[0m\n\u001b[0;32m-> 3075\u001b[0;31m             capture_by_value=self._capture_by_value),\n\u001b[0m\u001b[1;32m   3076\u001b[0m         \u001b[0mself\u001b[0m\u001b[0;34m.\u001b[0m\u001b[0m_function_attributes\u001b[0m\u001b[0;34m,\u001b[0m\u001b[0;34m\u001b[0m\u001b[0;34m\u001b[0m\u001b[0m\n\u001b[1;32m   3077\u001b[0m         \u001b[0mfunction_spec\u001b[0m\u001b[0;34m=\u001b[0m\u001b[0mself\u001b[0m\u001b[0;34m.\u001b[0m\u001b[0mfunction_spec\u001b[0m\u001b[0;34m,\u001b[0m\u001b[0;34m\u001b[0m\u001b[0;34m\u001b[0m\u001b[0m\n",
      "\u001b[0;32m/opt/anaconda3/envs/detrnn37/lib/python3.7/site-packages/tensorflow/python/framework/func_graph.py\u001b[0m in \u001b[0;36mfunc_graph_from_py_func\u001b[0;34m(name, python_func, args, kwargs, signature, func_graph, autograph, autograph_options, add_control_dependencies, arg_names, op_return_value, collections, capture_by_value, override_flat_arg_shapes)\u001b[0m\n\u001b[1;32m    984\u001b[0m         \u001b[0m_\u001b[0m\u001b[0;34m,\u001b[0m \u001b[0moriginal_func\u001b[0m \u001b[0;34m=\u001b[0m \u001b[0mtf_decorator\u001b[0m\u001b[0;34m.\u001b[0m\u001b[0munwrap\u001b[0m\u001b[0;34m(\u001b[0m\u001b[0mpython_func\u001b[0m\u001b[0;34m)\u001b[0m\u001b[0;34m\u001b[0m\u001b[0;34m\u001b[0m\u001b[0m\n\u001b[1;32m    985\u001b[0m \u001b[0;34m\u001b[0m\u001b[0m\n\u001b[0;32m--> 986\u001b[0;31m       \u001b[0mfunc_outputs\u001b[0m \u001b[0;34m=\u001b[0m \u001b[0mpython_func\u001b[0m\u001b[0;34m(\u001b[0m\u001b[0;34m*\u001b[0m\u001b[0mfunc_args\u001b[0m\u001b[0;34m,\u001b[0m \u001b[0;34m**\u001b[0m\u001b[0mfunc_kwargs\u001b[0m\u001b[0;34m)\u001b[0m\u001b[0;34m\u001b[0m\u001b[0;34m\u001b[0m\u001b[0m\n\u001b[0m\u001b[1;32m    987\u001b[0m \u001b[0;34m\u001b[0m\u001b[0m\n\u001b[1;32m    988\u001b[0m       \u001b[0;31m# invariant: `func_outputs` contains only Tensors, CompositeTensors,\u001b[0m\u001b[0;34m\u001b[0m\u001b[0;34m\u001b[0m\u001b[0;34m\u001b[0m\u001b[0m\n",
      "\u001b[0;32m/opt/anaconda3/envs/detrnn37/lib/python3.7/site-packages/tensorflow/python/eager/def_function.py\u001b[0m in \u001b[0;36mwrapped_fn\u001b[0;34m(*args, **kwds)\u001b[0m\n\u001b[1;32m    598\u001b[0m         \u001b[0;31m# __wrapped__ allows AutoGraph to swap in a converted function. We give\u001b[0m\u001b[0;34m\u001b[0m\u001b[0;34m\u001b[0m\u001b[0;34m\u001b[0m\u001b[0m\n\u001b[1;32m    599\u001b[0m         \u001b[0;31m# the function a weak reference to itself to avoid a reference cycle.\u001b[0m\u001b[0;34m\u001b[0m\u001b[0;34m\u001b[0m\u001b[0;34m\u001b[0m\u001b[0m\n\u001b[0;32m--> 600\u001b[0;31m         \u001b[0;32mreturn\u001b[0m \u001b[0mweak_wrapped_fn\u001b[0m\u001b[0;34m(\u001b[0m\u001b[0;34m)\u001b[0m\u001b[0;34m.\u001b[0m\u001b[0m__wrapped__\u001b[0m\u001b[0;34m(\u001b[0m\u001b[0;34m*\u001b[0m\u001b[0margs\u001b[0m\u001b[0;34m,\u001b[0m \u001b[0;34m**\u001b[0m\u001b[0mkwds\u001b[0m\u001b[0;34m)\u001b[0m\u001b[0;34m\u001b[0m\u001b[0;34m\u001b[0m\u001b[0m\n\u001b[0m\u001b[1;32m    601\u001b[0m     \u001b[0mweak_wrapped_fn\u001b[0m \u001b[0;34m=\u001b[0m \u001b[0mweakref\u001b[0m\u001b[0;34m.\u001b[0m\u001b[0mref\u001b[0m\u001b[0;34m(\u001b[0m\u001b[0mwrapped_fn\u001b[0m\u001b[0;34m)\u001b[0m\u001b[0;34m\u001b[0m\u001b[0;34m\u001b[0m\u001b[0m\n\u001b[1;32m    602\u001b[0m \u001b[0;34m\u001b[0m\u001b[0m\n",
      "\u001b[0;32m/opt/anaconda3/envs/detrnn37/lib/python3.7/site-packages/tensorflow/python/saved_model/function_deserialization.py\u001b[0m in \u001b[0;36mrestored_function_body\u001b[0;34m(*args, **kwargs)\u001b[0m\n\u001b[1;32m    255\u001b[0m         .format(_pretty_format_positional(args), kwargs,\n\u001b[1;32m    256\u001b[0m                 \u001b[0mlen\u001b[0m\u001b[0;34m(\u001b[0m\u001b[0msaved_function\u001b[0m\u001b[0;34m.\u001b[0m\u001b[0mconcrete_functions\u001b[0m\u001b[0;34m)\u001b[0m\u001b[0;34m,\u001b[0m\u001b[0;34m\u001b[0m\u001b[0;34m\u001b[0m\u001b[0m\n\u001b[0;32m--> 257\u001b[0;31m                 \"\\n\\n\".join(signature_descriptions)))\n\u001b[0m\u001b[1;32m    258\u001b[0m \u001b[0;34m\u001b[0m\u001b[0m\n\u001b[1;32m    259\u001b[0m   \u001b[0mconcrete_function_objects\u001b[0m \u001b[0;34m=\u001b[0m \u001b[0;34m[\u001b[0m\u001b[0;34m]\u001b[0m\u001b[0;34m\u001b[0m\u001b[0;34m\u001b[0m\u001b[0m\n",
      "\u001b[0;31mValueError\u001b[0m: Could not find matching function to call loaded from the SavedModel. Got:\n  Positional arguments (1 total):\n    * {'neural_input': <tf.Tensor 'trial_info_5:0' shape=(1500, 1000, 52) dtype=float32>, 'stimulus_ori': <tf.Tensor 'trial_info_10:0' shape=(1000,) dtype=int64>, 'reference_ori': <tf.Tensor 'trial_info_8:0' shape=(1000,) dtype=int64>, 'ref_neuron': <tf.Tensor 'trial_info_7:0' shape=(1000,) dtype=int64>, 'desired_decision': <tf.Tensor 'trial_info:0' shape=(1500, 1000, 3) dtype=float32>, 'desired_estim': <tf.Tensor 'trial_info_1:0' shape=(1500, 1000, 49) dtype=float32>, 'mask_decision': <tf.Tensor 'trial_info_3:0' shape=(1500, 1000, 3) dtype=float32>, 'mask_estim': <tf.Tensor 'trial_info_4:0' shape=(1500, 1000, 49) dtype=float32>, 'input_tuning': <tf.Tensor 'trial_info_2:0' shape=(1000, 48) dtype=float64>, 'output_tuning': <tf.Tensor 'trial_info_6:0' shape=(1000, 48) dtype=float64>, 'stimulus_kap': <tf.Tensor 'trial_info_9:0' shape=(1000,) dtype=float64>}\n  Keyword arguments: {}\n\nExpected these arguments to match one of the following 2 option(s):\n\nOption 1:\n  Positional arguments (1 total):\n    * {'desired_decision': TensorSpec(shape=(1500, 50, 3), dtype=tf.float32, name='trial_info/desired_decision'), 'mask_decision': TensorSpec(shape=(1500, 50, 3), dtype=tf.float32, name='trial_info/mask_decision'), 'stimulus_kap': TensorSpec(shape=(50,), dtype=tf.float32, name='trial_info/stimulus_kap'), 'ref_neuron': TensorSpec(shape=(50,), dtype=tf.float32, name='trial_info/ref_neuron'), 'mask_estim': TensorSpec(shape=(1500, 50, 49), dtype=tf.float32, name='trial_info/mask_estim'), 'desired_estim': TensorSpec(shape=(1500, 50, 49), dtype=tf.float32, name='trial_info/desired_estim'), 'stimulus_ori': TensorSpec(shape=(50,), dtype=tf.float32, name='trial_info/stimulus_ori'), 'output_tuning': TensorSpec(shape=(50, 48), dtype=tf.float32, name='trial_info/output_tuning'), 'neural_input': TensorSpec(shape=(1500, 50, 52), dtype=tf.float32, name='trial_info/neural_input'), 'reference_ori': TensorSpec(shape=(50,), dtype=tf.float32, name='trial_info/reference_ori'), 'input_tuning': TensorSpec(shape=(50, 48), dtype=tf.float32, name='trial_info/input_tuning')}\n  Keyword arguments: {}\n\nOption 2:\n  Positional arguments (1 total):\n    * {'stimulus_ori': TensorSpec(shape=(1000,), dtype=tf.float32, name='trial_info/stimulus_ori'), 'desired_estim': TensorSpec(shape=(1500, 1000, 49), dtype=tf.float32, name='trial_info/desired_estim'), 'reference_ori': TensorSpec(shape=(1000,), dtype=tf.float32, name='trial_info/reference_ori'), 'ref_neuron': TensorSpec(shape=(1000,), dtype=tf.float32, name='trial_info/ref_neuron'), 'neural_input': TensorSpec(shape=(1500, 1000, 52), dtype=tf.float32, name='trial_info/neural_input'), 'stimulus_kap': TensorSpec(shape=(1000,), dtype=tf.float32, name='trial_info/stimulus_kap'), 'mask_estim': TensorSpec(shape=(1500, 1000, 49), dtype=tf.float32, name='trial_info/mask_estim'), 'mask_decision': TensorSpec(shape=(1500, 1000, 3), dtype=tf.float32, name='trial_info/mask_decision'), 'output_tuning': TensorSpec(shape=(1000, 48), dtype=tf.float32, name='trial_info/output_tuning'), 'desired_decision': TensorSpec(shape=(1500, 1000, 3), dtype=tf.float32, name='trial_info/desired_decision'), 'input_tuning': TensorSpec(shape=(1000, 48), dtype=tf.float32, name='trial_info/input_tuning')}\n  Keyword arguments: {}"
     ]
    }
   ],
   "source": [
    "# evaluate and visualize before training\n",
    "test_lossStruct, test_outputs  = model.evaluate(test_data)\n",
    "\n",
    "# plot rnn trial and outputs\n",
    "TEST_TRIAL = np.random.randint(stim_test.batch_size) \n",
    "plot_trial(test_data, stim_train, TEST_TRIAL=TEST_TRIAL, savename=None)\n",
    "plot_rnn_output(test_data,test_outputs,stim_train, TEST_TRIAL=TEST_TRIAL, savename=None)\n",
    "\n",
    "# estimation summary\n",
    "est_summary, dec_summary = behavior_summary(test_data, test_outputs, stim_test)\n",
    "behavior_figure(est_summary)\n",
    "\n",
    "# plot rnn decision effects on estimation\n",
    "df_trials, df_sum = estimation_decision(test_data, test_outputs, stim_test)\n",
    "plot_decision_effects(df_trials,df_sum)\n",
    "\n",
    "# visualize weights\n",
    "model.visualize_weights()"
   ]
  }
 ],
 "metadata": {
  "kernelspec": {
   "display_name": "det_rnn37",
   "language": "python",
   "name": "det_rnn37"
  },
  "language_info": {
   "codemirror_mode": {
    "name": "ipython",
    "version": 3
   },
   "file_extension": ".py",
   "mimetype": "text/x-python",
   "name": "python",
   "nbconvert_exporter": "python",
   "pygments_lexer": "ipython3",
   "version": "3.7.10"
  }
 },
 "nbformat": 4,
 "nbformat_minor": 4
}
