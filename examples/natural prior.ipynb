{
 "cells": [
  {
   "cell_type": "markdown",
   "metadata": {},
   "source": [
    "## Define natural priors"
   ]
  },
  {
   "cell_type": "code",
   "execution_count": 7,
   "metadata": {},
   "outputs": [],
   "source": [
    "import numpy as np\n",
    "import matplotlib.pyplot as plt"
   ]
  },
  {
   "cell_type": "code",
   "execution_count": 75,
   "metadata": {},
   "outputs": [
    {
     "data": {
      "text/plain": [
       "Text(0, 0.5, 'pdf')"
      ]
     },
     "execution_count": 75,
     "metadata": {},
     "output_type": "execute_result"
    },
    {
     "data": {
      "image/png": "[encoded data removed]",
      "text/plain": [
       "<Figure size 432x288 with 1 Axes>"
      ]
     },
     "metadata": {
      "needs_background": "light"
     },
     "output_type": "display_data"
    }
   ],
   "source": [
    "# \"Natural prior\" (Girshick et al. 2011, fig.6)\n",
    "n_ori = 1000\n",
    "a = 2e-4\n",
    "b = 1\n",
    "\n",
    "dori = 180 / n_ori\n",
    "stim_dirs = np.float32(np.arange(0, 180, dori))\n",
    "stim_p = np.zeros(n_ori)\n",
    "midindx = np.argmin(np.abs(stim_dirs-90))\n",
    "\n",
    "stim_p[:midindx] = a*(np.arange(0, stim_dirs[midindx], stim_dirs[midindx] / midindx)-45)**2 + b\n",
    "stim_p[midindx:] = a*(np.arange(stim_dirs[midindx+1],\n",
    "                               180, (180-stim_dirs[midindx+1]) / (n_ori-midindx)\n",
    "                              )-135)**2 + b\n",
    "plt.figure()\n",
    "stim_p = stim_p/np.sum(stim_p)\n",
    "plt.plot(stim_dirs,stim_p/dori)\n",
    "plt.ylim([0,0.015])\n",
    "plt.xlabel('orientation (deg)')\n",
    "plt.ylabel('pdf')"
   ]
  },
  {
   "cell_type": "markdown",
   "metadata": {},
   "source": [
    "## Train network from stimuli distributed with the natural statistics"
   ]
  },
  {
   "cell_type": "code",
   "execution_count": 32,
   "metadata": {},
   "outputs": [],
   "source": [
    "import sys, os, time\n",
    "\n",
    "import copy\n",
    "import numpy as np\n",
    "import matplotlib.pyplot as plt\n",
    "\n",
    "sys.path.append('../')\n",
    "from det_rnn import *\n",
    "import det_rnn.train as train_utils\n",
    "import tensorflow as tf\n",
    "from det_rnn.train.model import Model\n",
    "\n",
    "model_dir = \"/Users/JRyu/github/det_rnn/experiments/naturalprior/200622/\"\n",
    "os.makedirs(model_dir, exist_ok=True)"
   ]
  },
  {
   "cell_type": "code",
   "execution_count": 10,
   "metadata": {},
   "outputs": [],
   "source": [
    "# Generate stimulus\n",
    "\n",
    "# training set\n",
    "par_train = copy.deepcopy(par)\n",
    "# use \"natural prior\"\n",
    "par_train['stim_dist'] = 'natural'\n",
    "par_train['natural_a'] = 2e-4\n",
    "par_train['n_ori'] = 1000 # make it somewhat continuous\n",
    "par_train = update_parameters(par_train)\n",
    "stim_train = Stimulus(par_train)\n",
    "\n",
    "# testing set; for testing the 24 orientations\n",
    "par_test = copy.deepcopy(par)\n",
    "par_test = update_parameters(par_test)\n",
    "stim_test = Stimulus(par_test)   # the argument `par` may be omitted"
   ]
  },
  {
   "cell_type": "code",
   "execution_count": 23,
   "metadata": {},
   "outputs": [
    {
     "data": {
      "text/plain": [
       "TensorShape([None, 128, 26])"
      ]
     },
     "execution_count": 23,
     "metadata": {},
     "output_type": "execute_result"
    }
   ],
   "source": [
    "ti_spec = train_utils.gen_ti_spec(stim_train.generate_trial()) # what does this do?\n",
    "ti_spec\n",
    "ti_spec['neural_input'].shape"
   ]
  },
  {
   "cell_type": "code",
   "execution_count": 30,
   "metadata": {},
   "outputs": [],
   "source": [
    "###### Train network ######\n",
    "N_iter = 1000\n",
    "N_save = 10  # save model every N_save iterations\n",
    "\n",
    "# define model\n",
    "hp = train_utils.hp\n",
    "hp['learning_rate'] = 2e-4\n",
    "model = Model(hp=hp)\n",
    "\n",
    "ti_spec = train_utils.gen_ti_spec(stim_train.generate_trial())"
   ]
  },
  {
   "cell_type": "code",
   "execution_count": 41,
   "metadata": {},
   "outputs": [
    {
     "name": "stdout",
     "output_type": "stream",
     "text": [
      "Y shape = (600, 128, 25)\n",
      "normalize output with softmax..\n",
      "norm shape = (600, 128, 1)\n",
      "I think there is no need to normalize again...\n",
      "pseudo_mean shape = (600, 128)\n"
     ]
    },
    {
     "data": {
      "image/png": "[encoded data removed]",
      "text/plain": [
       "<Figure size 432x288 with 1 Axes>"
      ]
     },
     "metadata": {
      "needs_background": "light"
     },
     "output_type": "display_data"
    },
    {
     "data": {
      "image/png": "[encoded data removed]",
      "text/plain": [
       "<Figure size 432x288 with 1 Axes>"
      ]
     },
     "metadata": {
      "needs_background": "light"
     },
     "output_type": "display_data"
    },
    {
     "data": {
      "image/png": "[encoded data removed]",
      "text/plain": [
       "<Figure size 432x288 with 1 Axes>"
      ]
     },
     "metadata": {
      "needs_background": "light"
     },
     "output_type": "display_data"
    }
   ],
   "source": [
    "train_data = train_utils.tensorize_trial(stim_train.generate_trial())\n",
    "Y, Loss = model(train_data, hp)\n",
    "\n",
    "train_data, Y, Loss, \n",
    "\n",
    "print('Y shape = ' + str(Y.shape))\n",
    "print('normalize output with softmax..\\n')\n",
    "cenoutput = tf.nn.softmax(Y, axis=2).numpy()\n",
    "post_prob = cenoutput[:, :, par_train['n_rule_output']:] #shape = T X B X neurons\n",
    "norm = np.sum(post_prob, axis=2, keepdims=True)\n",
    "\n",
    "print('norm shape = ' + str(norm.shape))\n",
    "plt.figure()\n",
    "plt.imshow(np.squeeze(norm))\n",
    "#print(np.squeeze(norm)) \n",
    "print('I think there is no need to normalize again...\\n')\n",
    "post_prob = post_prob / (\n",
    "        np.sum(post_prob, axis=2, keepdims=True) + np.finfo(np.float32).eps)  # Dirichlet normalization\n",
    "\n",
    "post_support = np.linspace(0, np.pi, post_prob.shape[2], endpoint=False) + np.pi / post_prob.shape[2] / 2\n",
    "pseudo_mean = np.arctan2(post_prob @ np.sin(2 * post_support),\n",
    "                         post_prob @ np.cos(2 * post_support)) / 2\n",
    "\n",
    "print('pseudo_mean shape = ' + str(pseudo_mean.shape))\n",
    "plt.figure()\n",
    "plt.imshow(np.squeeze(pseudo_mean))\n",
    "\n",
    "estim_sinr = (np.sin(2 * pseudo_mean[par_train['design_rg']['estim'], :])).mean(axis=0)\n",
    "estim_cosr = (np.cos(2 * pseudo_mean[par_train['design_rg']['estim'], :])).mean(axis=0)\n",
    "estim_mean = np.arctan2(estim_sinr, estim_cosr) / 2\n",
    "plt.figure()\n",
    "plt.plot(estim_mean)\n",
    "\n",
    "perf = np.mean(np.cos(2. * (train_data['stimulus_ori'].numpy() * np.pi \n",
    "                            / par['n_ori'] - estim_mean)))"
   ]
  },
  {
   "cell_type": "code",
   "execution_count": null,
   "metadata": {},
   "outputs": [],
   "source": [
    "alllosses =[]\n",
    "performance_train = {'perf': [], 'loss': [], 'perf_loss': [], 'spike_loss': []}\n",
    "performance_test = {'perf': [], 'loss': [], 'perf_loss': [], 'spike_loss': []}\n",
    "for iter_n in range(N_iter+1):\n",
    "    # train on testing set\n",
    "    train_data = train_utils.tensorize_trial(stim_train.generate_trial())\n",
    "    Y, Loss = model(train_data, hp)\n",
    "\n",
    "    performance_train = train_utils.append_model_performance(performance_train,\n",
    "                                                             train_data, Y, Loss, par_train)\n",
    "    # append performance on testing set\n",
    "    test_data = train_utils.tensorize_trial(stim_test.generate_trial())\n",
    "    performance_test = train_utils.append_model_performance(performance_test,\n",
    "                                                             test_data, Y, Loss, par_test)\n",
    "\n",
    "    if (iter_n % N_save) == 0:\n",
    "        print('Training performance: \\n')\n",
    "        train_utils.print_results(performance_train, iter_n)\n",
    "        print('Training performance: \\n')\n",
    "        train_utils.print_results(performance_test, iter_n)\n",
    "\n",
    "\n",
    "        tf.saved_model.save(model, os.path.join(model_dir, \"cont_iter\" + str(iter_n)))\n"
   ]
  },
  {
   "cell_type": "code",
   "execution_count": null,
   "metadata": {},
   "outputs": [],
   "source": []
  }
 ],
 "metadata": {
  "kernelspec": {
   "display_name": "det_rnn36",
   "language": "python",
   "name": "det_rnn36"
  },
  "language_info": {
   "codemirror_mode": {
    "name": "ipython",
    "version": 3
   },
   "file_extension": ".py",
   "mimetype": "text/x-python",
   "name": "python",
   "nbconvert_exporter": "python",
   "pygments_lexer": "ipython3",
   "version": "3.6.10"
  }
 },
 "nbformat": 4,
 "nbformat_minor": 2
}
