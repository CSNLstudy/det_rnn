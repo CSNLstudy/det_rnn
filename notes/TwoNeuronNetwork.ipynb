{
 "cells": [
  {
   "cell_type": "code",
   "execution_count": 2,
   "metadata": {},
   "outputs": [],
   "source": [
    "import numpy as np"
   ]
  },
  {
   "cell_type": "markdown",
   "metadata": {},
   "source": [
    "We want to see the effect of the recurrent matrix structure on the stability of a recurrent neural network. \n",
    "\n",
    "$$ \n",
    "\\begin{align*}\n",
    "\\tau \\frac{dr}{dt} &= -r f(W_{rnn} r + W_{in} u + b_{rnn} + \\sqrt{2\\tau}\\sigma_{rnn} \\xi \\\\\n",
    "r_t &= (1-\\alpha)I r_{t-1} + \\alpha f( W_{rnn} r_{t-1} + W_{in} u_t + b_{rnn} + \\sqrt{2/\\alpha}\\sigma_{rnn} N(0,1)) \\\\\n",
    "\\alpha &= \\frac{\\delta t}{\\tau} \\\\\n",
    "\\end{align*}\n",
    "$$\n",
    "\n",
    "In this notebook, I consider a population of neurons with two neurons (one excitatory and one inhibitory), that is $r \\in \\mathbb{R}^2$.\n"
   ]
  },
  {
   "cell_type": "markdown",
   "metadata": {},
   "source": [
    "Let us consider the following cases\n",
    "Eigenvectors \n",
    "\n",
    "\n"
   ]
  },
  {
   "cell_type": "code",
   "execution_count": null,
   "metadata": {},
   "outputs": [],
   "source": [
    "A1 = [1, 2]\n",
    "\n",
    "print(\"without any noise or nonlinearity:\")"
   ]
  }
 ],
 "metadata": {
  "kernelspec": {
   "display_name": "local-venv",
   "language": "python",
   "name": "local-venv"
  },
  "language_info": {
   "codemirror_mode": {
    "name": "ipython",
    "version": 3
   },
   "file_extension": ".py",
   "mimetype": "text/x-python",
   "name": "python",
   "nbconvert_exporter": "python",
   "pygments_lexer": "ipython3",
   "version": "3.7.9"
  }
 },
 "nbformat": 4,
 "nbformat_minor": 4
}
